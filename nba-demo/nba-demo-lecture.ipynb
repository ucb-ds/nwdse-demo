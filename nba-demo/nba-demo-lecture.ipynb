{
 "cells": [
  {
   "cell_type": "code",
   "execution_count": null,
   "metadata": {},
   "outputs": [],
   "source": [
    "# These lines import the Numpy and Datascience modules.\n",
    "from datascience import *\n"
   ]
  },
  {
   "cell_type": "markdown",
   "metadata": {},
   "source": [
    "## DataSets: Adding or changing a dataset"
   ]
  },
  {
   "cell_type": "markdown",
   "metadata": {},
   "source": [
    "## Part 1: Changing a dataset \n",
    "<div class=\"alert alert-block alert-info\">\n",
    "There are two goals in this section:\n",
    "\n",
    "- Understand the paths to data files that are stored with your notebook\n",
    "- Be able to change the location and path to a data file\n",
    "</div>\n",
    "\n",
    "### Understanding Paths\n",
    "\n",
    "<div class=\"alert alert-block alert-success\">\n",
    "If you would like to change the dataset being used in a notebook, your first step is to determine the path to the dataset relative to the notebook you are working with. The second step is copy that path into the `Table().read_table` function. \n",
    "\n",
    "For example, we are updating the player_data.csv and salary_data.csv files to reflect 2024 NBA data. Later we will add in the WNBA player data.\n",
    "\n",
    "Sometimes it is helpful to know where the data files you need are located relative to your notebook. There are two commands we can run:\n",
    "- `%pwd` -- \"print working directory\" -- displays your current directory\n",
    "- `%ls -l` -- \"list in long format\" which lists all the files in the current directory\n",
    "\n",
    "Run the cells below to observe these commands:\n",
    "</div>\n"
   ]
  },
  {
   "cell_type": "code",
   "execution_count": null,
   "metadata": {},
   "outputs": [],
   "source": [
    "%pwd"
   ]
  },
  {
   "cell_type": "code",
   "execution_count": null,
   "metadata": {},
   "outputs": [],
   "source": [
    "%ls -l"
   ]
  },
  {
   "cell_type": "markdown",
   "metadata": {},
   "source": [
    "### Changing the path to a dataset\n",
    "\n",
    "<div class=\"alert alert-block alert-success\">\n",
    "Hopefully the `pwd` and `ls -l` commands illustrated that you are in the nba-demo directory and your data files are present.\n",
    "\n",
    "The paths we need to the 2024 data are:\n",
    "- player_data_nba_2024.csv\n",
    "- salary_data_nba_2024.csv\n",
    "\n",
    "You might want to run the cell below to see the data we currently have. \n",
    "\n",
    "Then change the paths below by replacing player_data.csv and salary_data.csv with the appropriate new file names. Once the change is made, run the cell and take a look at the data again\n",
    "</div>\n"
   ]
  },
  {
   "cell_type": "code",
   "execution_count": null,
   "metadata": {},
   "outputs": [],
   "source": [
    "nba_player_data = Table.read_table(\"player_data.csv\")\n",
    "nba_salary_data = Table.read_table(\"salary_data.csv\")\n",
    "\n",
    "# The show method immediately displays the contents of a table. \n",
    "nba_player_data.show(3)\n",
    "nba_salary_data.show(3)\n",
    "\n"
   ]
  },
  {
   "cell_type": "markdown",
   "metadata": {},
   "source": [
    "### Storing datasets in a sub-folder\n",
    "\n",
    "<div class=\"alert alert-block alert-success\">\n",
    "There is a big difference!  The original data is from 2014-15 season. \n",
    "\n",
    "You might want to load and display both the 2014 and 2024 datasets in the same cell to easily see the difference in salaries. \n",
    "\n",
    "Before we do that, we can practice moving our datasets into a different folder.\n",
    "\n",
    "- Create the folder, data, in the nba-demo folder.\n",
    "- Move the .csv files into the folder, data.\n",
    "- Run `pwd` and `ls -l` again to see the difference.\n",
    "</div>"
   ]
  },
  {
   "cell_type": "code",
   "execution_count": null,
   "metadata": {},
   "outputs": [],
   "source": [
    "%pwd"
   ]
  },
  {
   "cell_type": "code",
   "execution_count": null,
   "metadata": {},
   "outputs": [],
   "source": [
    "%ls -l"
   ]
  },
  {
   "cell_type": "markdown",
   "metadata": {},
   "source": [
    "<div class=\"alert alert-block alert-success\">\n",
    "Now, instead of seeing the csv files you see the folder, \"data/\". We need to include the folder name, \"data/\", when we use the `Table.read_table` function.\n",
    "\n",
    "In the cell below:\n",
    "- read in the 2014 and 2024 data via read_table\n",
    "- show the first few records of each.\n",
    "- Be careful! The path to the data files is now: \"data/name_of_file.csv\"\n",
    "</div>"
   ]
  },
  {
   "cell_type": "code",
   "execution_count": null,
   "metadata": {},
   "outputs": [],
   "source": [
    "\n",
    "nba_player_data_2024 = ...\n",
    "nba_salary_data_2024 = ...\n",
    "\n",
    "# The show method immediately displays the contents of a table. \n",
    "nba_salary_data_2024.show(3)\n",
    "\n",
    "nba_player_data_2014 = ...\n",
    "nba_salary_data_2014 = ...\n",
    "\n",
    "nba_salary_data_2014.show(3)\n"
   ]
  },
  {
   "cell_type": "markdown",
   "metadata": {},
   "source": [
    "### Where are we\n",
    "\n",
    "<div class=\"alert alert-block alert-success\">\n",
    "In ten years, the highest paid players in the NBA jumps $28,000,000! \n",
    "\n",
    "Inflation, OK. But still. $51,000,000 in 2024 was about $38,000,000 in 2014.\n",
    "\n",
    "We know how to read in csv files both from the directory our notebook is currently in as well as from a sub-folder. \n",
    "\n",
    "Now, we work on loading the WNBA salary data from a URL(website).\n",
    "</div>"
   ]
  },
  {
   "cell_type": "markdown",
   "metadata": {},
   "source": [
    "## Part 2: Change the data file to read from a URL\n",
    "<div class=\"alert alert-block alert-info\">\n",
    "In this section, we are aiming for you to be able to:\n",
    "\n",
    "- Load and display data from a URL\n",
    "- Create your own Code cell\n",
    "\n",
    "</div>\n",
    "\n",
    "<div class=\"alert alert-block alert-success\">\n",
    "\n",
    "It is pretty straight-froward to load a dataset from a URL instead of storing the dataset with the notebook itself.\n",
    "\n",
    "We want to add WNBA player data to this notebook, which includes statistics and salary data for WNBA players. We conveniently put the dataset in a git repository on Github. You can navigate to the dataset by going here:\n",
    "- https://github.com/ucb-ds/demo-datasets/raw/main/wnba_data.csv\n",
    "\n",
    "You can create a \"Code\" cell below, that will load and show the data from a URL by replacing the path in `Table.read_table` with the URL above.\n",
    "\n",
    "In order to create a \"Code\" cell, move to the top-right of this cell and click the button with the \"+\" sign underneath it - second to last\n",
    "\n",
    "![Image of \"Code\" button to click to create \"Code\" cell](code1.png \"'Code' button to click to create 'Code' cell\")\n",
    "\n",
    "Copy the contents of a cell earlier in the notebook that loads in player data, then change the path to the WNBA data URL. You may want to change the variable names as well to be descriptive of the dataset we are loading.\n",
    "</div>"
   ]
  },
  {
   "cell_type": "markdown",
   "metadata": {},
   "source": [
    "## Summary\n",
    "<div class=\"alert alert-block alert-info\">\n",
    "Here we have practiced working with various methods of loading datasets into your notebook, display those datasets, as well as creating and editing Code cells.\n",
    "</div>"
   ]
  }
 ],
 "metadata": {
  "kernelspec": {
   "display_name": "Python 3",
   "language": "python",
   "name": "python3"
  },
  "language_info": {
   "codemirror_mode": {
    "name": "ipython",
    "version": 3
   },
   "file_extension": ".py",
   "mimetype": "text/x-python",
   "name": "python",
   "nbconvert_exporter": "python",
   "pygments_lexer": "ipython3",
   "version": "3.12.3"
  }
 },
 "nbformat": 4,
 "nbformat_minor": 2
}
